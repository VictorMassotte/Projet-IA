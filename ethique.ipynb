{
 "cells": [
  {
   "cell_type": "markdown",
   "metadata": {},
   "source": [
    "## Contexte"
   ]
  },
  {
   "cell_type": "markdown",
   "metadata": {},
   "source": [
    "La direction fait donc appel à vous, spécialistes de l'analyse de données, pour déterminer les facteurs ayant le plus d'influence sur ce taux de turn-over et lui proposer des modèles afin d'avoir des pistes d'amélioration pour donner à leurs employés l'envie de rester."
   ]
  },
  {
   "cell_type": "markdown",
   "metadata": {},
   "source": [
    "## Ethique\n"
   ]
  },
  {
   "cell_type": "markdown",
   "metadata": {},
   "source": [
    "Une intelligence artificielle est dite éthique lorsque sa conception, sa construction et son utilisation est centrée sur l'éthique humaine."
   ]
  },
  {
   "cell_type": "markdown",
   "metadata": {},
   "source": [
    "### Conception\n"
   ]
  },
  {
   "cell_type": "markdown",
   "metadata": {},
   "source": [
    "Avant de commencer le développement (ou la construction) de notre intelligence artificielle, il faut déterminer quels sont les caractéristiques pouvant être utilisés tout en respectant les notions d'éthique suivantes : \n",
    "\n",
    "- La liberté humaine : Un être humain est libre de faire ses propres choix.\n",
    "- La dignité humaine : Un être humain doit être considéré comme une fin en soi et non comme un moyen, c'est-à-dire que l'on ne peut pas rabattre un être humain à un simple objet.\n",
    "- L'autonomie humaine : Elle est définie comme la capacité du sujet à décider pour lui-même des règles auxquelles il obéit, et à agir en conséquence.\n",
    "- La protection de la vie privée et des données : vise à réglementer l’utilisation et le traitement des données personnelles que nous respectons via la confidentialité des données assuré par :\n",
    "    - L’anonymat : Aucun employé n’est nommé ou ne peut être rattaché à notre jeu de données. \n",
    "    - La synthétisation : Nous avons recréé des données à partir de la réalité. \n",
    "- La non-discrimination et l'égalité : Principe interdisant de traiter moins favorablement une personne en se basant sur des critères réels ou supposés comme l'apparence, la croyance, l'âge ou le sexe pour se rapprocher d’une égalité de traitement.\n",
    "- La diversité : hétérogénéité\n",
    "- L'équité : Principe impliquant le respect absolu de ce qui est dû à chacun ou de l’égalité des chances. Il vise à instaurer une égalité de droit, en tenant compte des inégalités de fait.\n",
    "\n",
    "Nous avons déterminé pour chaque caractéristique si ce dernier est éthique ou non dans notre cadre d'étude en se basant sur les critères mentionnés ci-dessus :\n",
    "\n",
    "|Caractéristique|Description|Ethique|\n",
    "|:-|:-|:-|\n",
    "|Age|L'âge de l'employé en 2015|OUI\n",
    "|Attrition|Est-ce que l'employé a quitté l'entreprise durant l'année 2016 ?|OUI\n",
    "|BusinessTravel|A quel fréquence l'employé a été amené à se déplacer dans le cadre de son travail en 2015 ?|OUI\n",
    "|DistanceFromHome|Distance en km entre le logement de l'employé et l'entreprise|OUI\n",
    "|Education|Niveau d'étude|OUI\n",
    "|EducationField|Domaine d'étude, matière principale|OUI\n",
    "|EmployeeCount|L'employé était compté dans les effectifs en 2015|OUI\n",
    "|EmployeeId|Identifiant de l'employé|OUI\n",
    "|<span style=\"color: red\">Gender</span>|<span style=\"color: red\">Sexe de l'employé</span>|<span style=\"color: red\">NON</span>\n",
    "|JobLevel|Niveau hiérarchique dans l'entreprise|OUI\n",
    "|JobRole|Métier dans l'entreprise|OUI\n",
    "|<span style=\"color: red; width: 100%\">MaritalStatus</span>|<span style=\"color: red; width: 100%\">Statut marital du salarié</span>|<span style=\"color: red; width: 100%\">NON</span>\n",
    "|MonthlyIncome|Salaire brut en roupie/mois|OUI\n",
    "|NumCompaniesWorked|Nombre d'entreprises pour lequel l'employé a travaillé avant de rejoindre HumanForYou|OUI\n",
    "|Over18|Est-ce que le salarié a plus de 18 ans ou non ?|OUI\n",
    "|PercentSalaryHike|% d'augmentation salaire en 2015|OUI\n",
    "|StandardHours|Nombre d'heures/jour dans le contrat du salarié|OUI\n",
    "|<span style=\"color: red; width: 100%\">StockOptionLevel</span>|<span style=\"color: red\"> Niveau d'investissement en actions de l'entreprise par le salarié</span>|<span style=\"color: red\">NON</span>\n",
    "|TotalWorkingYears|Nombre d'années d'expérience en entreprise du salarié pour le même type de poste|OUI\n",
    "|TrainingTimesLastYear|Nombre de jour de formation en 2015|OUI\n",
    "|YearsAtCompany|Ancienneté dans l'entreprise|OUI\n",
    "|YearsSinceLastPromotion|Nombre d'années depuis la dernière augmentation individuelle|OUI\n",
    "|YearsWithCurrentManager|Nombre d'années de collaboration sous la responsabilité du manager actuel de l'employé|OUI\n",
    "|JobInvolvement|Evaluation de son implication dans son travail par son manager|OUI\n",
    "|PerformanceRating|Evaluation de son niveau de performance annuel pour l'entreprise par son manager|OUI\n",
    "|EnvironmentSatisfaction|Evaluation de l'environnement de travail par l'employé|OUI\n",
    "|JobSatisfaction|Evaluation de son travail par l'employé|OUI\n",
    "|WorkLifeBalance|Evaluation sur l'équilibre entre vie privé et vie professionnelle  par l'employé|OUI\n",
    "|in|Heure d'arrivée|OUI\n",
    "|out|Heure de départ|OUI  \n",
    "\n",
    "<i>Nous considérons les critères en <span style=\"color:red;\">rouge</span> comme non éthique par rapport à notre situation.</i>\n",
    "\n",
    "#### Nous devons également répondre aux questions de la Commission Européenne :\n",
    "\n",
    "<i>Le système d'IA est-il potentiellement discriminatoire à l'encontre des personnes sur la base de des motifs suivants (liste non exhaustive) : sexe, race, couleur, origine ethnique ou sociale, génétique caractéristiques, langue, religion ou conviction, opinion politique ou toute autre opinion, appartenance à une minorité, fortune, naissance, handicap, âge ou orientation sexuelle ?</i>\n",
    "\n",
    "<strong>Oui, car ce genre de données ne peuvent pas changer, donc l’IA prend en compte le sexe et l’âge.</strong>\n",
    "\n",
    "<i>Avez-vous mis en place des processus pour tester et surveiller la discrimination négative potentielle (préjugé) pendant les phases de développement, de déploiement et d'utilisation du système d'IA ?</i>\n",
    "\n",
    "<strong>Oui, notre IA test et surveille la discrimination négative potentielle.</strong>\n",
    "\n",
    "<i>Avez-vous mis en place des processus pour traiter et rectifier la discrimination négative potentielle (préjugé) dans le système d'IA ?</i>\n",
    "\n",
    "<strong>Oui, des processus ont été mis en place pour traiter et rectifier la discrimination négative potentielle.</strong>\n",
    "\n",
    "<i>Le système AI respecte-t-il les droits de l'enfant, par exemple en ce qui concerne protection et en tenant compte de l'intérêt supérieur de l'enfant ?</i>\n",
    "\n",
    "<strong>Oui, notre IA ne traite aucune donnée relative a des personnes mineures.</strong>\n",
    "\n",
    "<i>Avez-vous mis en place des processus pour traiter et rectifier les dommages potentiels causés aux enfants par l'IA système?</i>\n",
    "\n",
    "<strong>Oui, puisque nous n’avons pas d’enfants.</strong>\n",
    "\n",
    "<i>Avez-vous mis en place des processus pour tester et surveiller les dommages potentiels aux enfants pendant la phase de développement, de déploiement et d'utilisation du système d'IA ?</i>\n",
    "\n",
    "<strong>Oui, puisque nous n’avons pas d’enfants.</strong>\n",
    "\n",
    "<i>Le système d'IA protège-t-il les données personnelles relatives aux individus conformément au RGPD ?</i>\n",
    "\n",
    "<strong>Oui, notre système d’IA protège les données personnelles et relative au individu.</strong>\n",
    "\n",
    "<i>Avez-vous mis en place des processus pour évaluer en détail la nécessité d'un impact sur la protection des données évaluation, y compris une évaluation de la nécessité et de la proportionnalité du traitement opérations par rapport à leur finalité, en ce qui concerne les phases de développement, de déploiement et d'utilisation du système d'IA ?</i>\n",
    "\n",
    "<strong>Oui, des processus ont été mis en place pour évaluer la nécessité d’un impact sur la protection des données.</strong>\n",
    "\n",
    "<i>Avez-vous mis en place les mesures envisagées pour faire face aux risques, y compris les sauvegardes, la sécurité des mesures et des mécanismes pour assurer la protection des données personnelles à l'égard de la phase de développement, de déploiement et d'utilisation du système d'IA ?</i>\n",
    "\n",
    "<strong>Oui, nous utilisons la plateforme Github qui facilite le déploiement et la sauvegarde du projet ainsi que des données et demande une invitation de la part de l'administrateur du projet pour pouvoir accéder à l'algorithme.</strong>\n",
    "\n",
    "<i>Le système AI respecte-t-il la liberté d'expression et d'information et/ou la liberté d’assemblée et association ?</i>\n",
    "\n",
    "<strong>Oui, car toutes les données collectées ont été donné par choix, les employés étaient libres d’y répondre ou pas et savaient que les données allaient être utilisées.</strong>"
   ]
  },
  {
   "cell_type": "markdown",
   "metadata": {},
   "source": [
    "### Construction\n"
   ]
  },
  {
   "cell_type": "markdown",
   "metadata": {},
   "source": [
    "Il ne suffit pas d'avoir des données éthiques pour que notre IA le soit. En effet, la construction de notre IA doit répondre à une certaine norme de <strong>sécurité</strong> et de <strong>robustesse</strong>.\n",
    "\n",
    "La robustesse et la sécurité d’une IA correspondent à sa faculté d'accumuler des cas d’utilisations variées. Nous savons qu’une IA doit apprendre avec un jeu de donnée conséquent. Cependant, si chaque cas d’utilisation est dans les meilleures conditions pour celle-ci, elle apprendra, mais seulement des cas simples et non des cas complexe qu'elle ne saura pas résoudre.\n",
    "\n",
    "Nous pouvons prendre pour exemple l’apprentissage de la conduite. Il est vrai que circuler quand il n’y a aucun usager de la route à nos côtés est très simple, mais lorsque nous allons à Paris avec énormément de trafic, c’est beaucoup plus complexe de s’en sortir. Pour une IA, c’est le même principe. Il faut qu’elle apprenne le plus de cas d’utilisation possible pour apprendre correctement.\n",
    "\n",
    "Il est vrai que l'apprentissage de la conduite en milieu rural est beaucoup plus simple qu'en milieu urbain où la circulation y est plus dense et les informations à prendre en compte plus nombreuses (piéton, feu tricolore, panneau de signalisation, différentes limitations de vitesse, etc. ).\n",
    "\n",
    "Mais ce n'est pas tout puisqu'il faut faire attention au <strong>sur-apprentissage</strong>.\n",
    "\n",
    "En intelligence artificielle, on parle de sur-apprentissage quand un modèle a trop appris les particularités de chacun des exemples fournis en exemple. Il présente alors un taux de succès très important sur les données d’entraînement, au détriment de ses performances générales réelles.\n",
    "\n",
    "Voici un exemple ci-dessous où le modèle de gauche montre un modèle performant, capable d'estimer de manière fiable la taille moyenne d'un homme en fonction de son âge contrairement à la courbe de droite qui reproduit trop fidèlement les échantillons d'entraînement.\n",
    "\n",
    "![ex_sur_apprentissage](https://www.actuia.com/wp-content/uploads/2018/10/apprentissage_surapprentiss.png)"
   ]
  },
  {
   "cell_type": "markdown",
   "metadata": {},
   "source": [
    "### Utilisation\n"
   ]
  },
  {
   "cell_type": "markdown",
   "metadata": {},
   "source": [
    "La complexité de l'IA est souvent mal représenté dû à l'hypermédiatisation, aux représentations faussées et à la science-fiction. Cette mécompréhension peut entraîner une certaine méfiance envers l'utilisation de cette technologie. Pour répondre à ce problème, il est nécessaire de fournir une explication complète et transparente du fonctionnement de cette dernière.\n",
    "\n",
    "Pour cela, il faut décrire chaque étape du cycle de vie de l'IA de telle sorte que :\n",
    "\n",
    "- Le processus doit être clair pour que l'utilisateur de l'IA soit en mesure de comprendre facilement chaque étape effectuée.\n",
    "- Les résultats fournis par chaque étape pour qu'ils soient facilement interprétables, exploitables et puissent être contestés sur la base d'informations simples et faciles à comprendre sur les facteurs et la logique qui ont servi de base à notre prédiction."
   ]
  }
 ],
 "metadata": {
  "language_info": {
   "name": "python"
  },
  "orig_nbformat": 4
 },
 "nbformat": 4,
 "nbformat_minor": 2
}
