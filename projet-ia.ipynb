{
 "cells": [
  {
   "cell_type": "markdown",
   "metadata": {},
   "source": [
    "# Projet IA\n",
    "## Préparation des données\n",
    "\n",
    "### Initialisation du projet"
   ]
  },
  {
   "cell_type": "code",
   "execution_count": 42,
   "metadata": {},
   "outputs": [],
   "source": [
    "# imports\n",
    "import numpy as np\n",
    "import seaborn as sns\n",
    "import os\n",
    "\n",
    "from numpy.random import default_rng\n",
    "# stabilité du notebook d'une exécution à l'autre\n",
    "random=default_rng(420) \n",
    "\n",
    "# jolies figures directement dans le notebook\n",
    "%matplotlib inline\n",
    "import matplotlib\n",
    "import matplotlib.pyplot as plt\n",
    "plt.rcParams['axes.labelsize'] = 14\n",
    "plt.rcParams['xtick.labelsize'] = 12\n",
    "plt.rcParams['ytick.labelsize'] = 12\n",
    "\n",
    "# où sauver les figures\n",
    "PROJECT_ROOT_DIR = \".\"\n",
    "CHAPTER_ID = \"projet\"\n",
    "IMAGES_PATH = os.path.join(PROJECT_ROOT_DIR, \"img\") # le dossier doit exister\n",
    "\n",
    "def save_fig(fig_id, tight_layout=True, fig_extension=\"png\", resolution=500):\n",
    "    path = os.path.join(IMAGES_PATH, fig_id + \".\" + fig_extension)\n",
    "    print(\"Saving figure\", fig_id)\n",
    "    if tight_layout:\n",
    "        plt.tight_layout()\n",
    "    plt.savefig(path, format=fig_extension, dpi=resolution)"
   ]
  },
  {
   "cell_type": "markdown",
   "metadata": {},
   "source": [
    "### Importation"
   ]
  },
  {
   "cell_type": "code",
   "execution_count": 43,
   "metadata": {},
   "outputs": [],
   "source": [
    "import os\n",
    "import pandas as pd\n",
    "\n",
    "dataSets_Path = os.path.join(\".\\datasets\")\n",
    "\n",
    "generalData = pd.read_csv(os.path.join(dataSets_Path, \"general_data.csv\"))\n",
    "employeeData = pd.read_csv(os.path.join(dataSets_Path, \"employee_survey_data.csv\"))\n",
    "managerData = pd.read_csv(os.path.join(dataSets_Path, \"manager_survey_data.csv\"))\n",
    "csvInTimeData = pd.read_csv(os.path.join(dataSets_Path, \"in_time.csv\"))\n",
    "csvOutTimeData = pd.read_csv(os.path.join(dataSets_Path, \"out_time.csv\"))\n",
    "\n",
    "intTimeData = csvInTimeData.rename(columns={'Unnamed: 0': 'EmployeeID'})\n",
    "outTimeData = csvOutTimeData.rename(columns={'Unnamed: 0': 'EmployeeID'})"
   ]
  },
  {
   "cell_type": "code",
   "execution_count": 44,
   "metadata": {},
   "outputs": [
    {
     "name": "stdout",
     "output_type": "stream",
     "text": [
      "<class 'pandas.core.frame.DataFrame'>\n",
      "Int64Index: 4410 entries, 0 to 4409\n",
      "Data columns (total 29 columns):\n",
      " #   Column                   Non-Null Count  Dtype  \n",
      "---  ------                   --------------  -----  \n",
      " 0   EmployeeID               4410 non-null   int64  \n",
      " 1   EnvironmentSatisfaction  4385 non-null   float64\n",
      " 2   JobSatisfaction          4390 non-null   float64\n",
      " 3   WorkLifeBalance          4372 non-null   float64\n",
      " 4   Age                      4410 non-null   int64  \n",
      " 5   Attrition                4410 non-null   object \n",
      " 6   BusinessTravel           4410 non-null   object \n",
      " 7   Department               4410 non-null   object \n",
      " 8   DistanceFromHome         4410 non-null   int64  \n",
      " 9   Education                4410 non-null   int64  \n",
      " 10  EducationField           4410 non-null   object \n",
      " 11  EmployeeCount            4410 non-null   int64  \n",
      " 12  Gender                   4410 non-null   object \n",
      " 13  JobLevel                 4410 non-null   int64  \n",
      " 14  JobRole                  4410 non-null   object \n",
      " 15  MaritalStatus            4410 non-null   object \n",
      " 16  MonthlyIncome            4410 non-null   int64  \n",
      " 17  NumCompaniesWorked       4391 non-null   float64\n",
      " 18  Over18                   4410 non-null   object \n",
      " 19  PercentSalaryHike        4410 non-null   int64  \n",
      " 20  StandardHours            4410 non-null   int64  \n",
      " 21  StockOptionLevel         4410 non-null   int64  \n",
      " 22  TotalWorkingYears        4401 non-null   float64\n",
      " 23  TrainingTimesLastYear    4410 non-null   int64  \n",
      " 24  YearsAtCompany           4410 non-null   int64  \n",
      " 25  YearsSinceLastPromotion  4410 non-null   int64  \n",
      " 26  YearsWithCurrManager     4410 non-null   int64  \n",
      " 27  JobInvolvement           4410 non-null   int64  \n",
      " 28  PerformanceRating        4410 non-null   int64  \n",
      "dtypes: float64(5), int64(16), object(8)\n",
      "memory usage: 1.0+ MB\n"
     ]
    }
   ],
   "source": [
    "allData = pd.merge(employeeData, generalData, how='inner', on=['EmployeeID'])\n",
    "allData = allData.merge(managerData, how='inner', on=['EmployeeID'])\n",
    "\n",
    "\"\"\" allData = allData.merge(intTimeData, how='inner', on=['EmployeeID'])\n",
    "allData = allData.merge(outTimeData, how='inner', on=['EmployeeID']) \"\"\"\n",
    "\n",
    "Test = allData.info()"
   ]
  },
  {
   "cell_type": "markdown",
   "metadata": {},
   "source": [
    "### Decode valeur"
   ]
  },
  {
   "cell_type": "code",
   "execution_count": 45,
   "metadata": {},
   "outputs": [],
   "source": [
    "allData['PerformanceRating'] = allData['PerformanceRating'].replace({ 1 : 'Low', 2: 'Good',3: 'Excellent',4: 'Outstanding'})\n",
    "allData['EnvironmentSatisfaction'] = allData['EnvironmentSatisfaction'].replace({ 1 : 'Low', 2: 'Medium',3: 'High',4: 'Very High'})\n",
    "allData['JobSatisfaction'] = allData['JobSatisfaction'].replace({ 1 : 'Low', 2: 'Medium',3: 'High',4: 'Very High'})\n",
    "allData['WorkLifeBalance'] = allData['WorkLifeBalance'].replace({ 1 : 'Bad', 2: 'Good',3: 'Better',4: 'Best'})\n"
   ]
  },
  {
   "cell_type": "code",
   "execution_count": 46,
   "metadata": {},
   "outputs": [
    {
     "data": {
      "text/html": [
       "<div>\n",
       "<style scoped>\n",
       "    .dataframe tbody tr th:only-of-type {\n",
       "        vertical-align: middle;\n",
       "    }\n",
       "\n",
       "    .dataframe tbody tr th {\n",
       "        vertical-align: top;\n",
       "    }\n",
       "\n",
       "    .dataframe thead th {\n",
       "        text-align: right;\n",
       "    }\n",
       "</style>\n",
       "<table border=\"1\" class=\"dataframe\">\n",
       "  <thead>\n",
       "    <tr style=\"text-align: right;\">\n",
       "      <th></th>\n",
       "      <th>EmployeeID</th>\n",
       "      <th>EnvironmentSatisfaction</th>\n",
       "      <th>JobSatisfaction</th>\n",
       "      <th>WorkLifeBalance</th>\n",
       "      <th>Age</th>\n",
       "      <th>Attrition</th>\n",
       "      <th>BusinessTravel</th>\n",
       "      <th>Department</th>\n",
       "      <th>DistanceFromHome</th>\n",
       "      <th>Education</th>\n",
       "      <th>...</th>\n",
       "      <th>PercentSalaryHike</th>\n",
       "      <th>StandardHours</th>\n",
       "      <th>StockOptionLevel</th>\n",
       "      <th>TotalWorkingYears</th>\n",
       "      <th>TrainingTimesLastYear</th>\n",
       "      <th>YearsAtCompany</th>\n",
       "      <th>YearsSinceLastPromotion</th>\n",
       "      <th>YearsWithCurrManager</th>\n",
       "      <th>JobInvolvement</th>\n",
       "      <th>PerformanceRating</th>\n",
       "    </tr>\n",
       "  </thead>\n",
       "  <tbody>\n",
       "    <tr>\n",
       "      <th>count</th>\n",
       "      <td>4410.000000</td>\n",
       "      <td>4385</td>\n",
       "      <td>4390</td>\n",
       "      <td>4372</td>\n",
       "      <td>4410.000000</td>\n",
       "      <td>4410</td>\n",
       "      <td>4410</td>\n",
       "      <td>4410</td>\n",
       "      <td>4410.000000</td>\n",
       "      <td>4410.000000</td>\n",
       "      <td>...</td>\n",
       "      <td>4410.000000</td>\n",
       "      <td>4410.0</td>\n",
       "      <td>4410.000000</td>\n",
       "      <td>4401.000000</td>\n",
       "      <td>4410.000000</td>\n",
       "      <td>4410.000000</td>\n",
       "      <td>4410.000000</td>\n",
       "      <td>4410.000000</td>\n",
       "      <td>4410.000000</td>\n",
       "      <td>4410</td>\n",
       "    </tr>\n",
       "    <tr>\n",
       "      <th>unique</th>\n",
       "      <td>NaN</td>\n",
       "      <td>4</td>\n",
       "      <td>4</td>\n",
       "      <td>4</td>\n",
       "      <td>NaN</td>\n",
       "      <td>2</td>\n",
       "      <td>3</td>\n",
       "      <td>3</td>\n",
       "      <td>NaN</td>\n",
       "      <td>NaN</td>\n",
       "      <td>...</td>\n",
       "      <td>NaN</td>\n",
       "      <td>NaN</td>\n",
       "      <td>NaN</td>\n",
       "      <td>NaN</td>\n",
       "      <td>NaN</td>\n",
       "      <td>NaN</td>\n",
       "      <td>NaN</td>\n",
       "      <td>NaN</td>\n",
       "      <td>NaN</td>\n",
       "      <td>2</td>\n",
       "    </tr>\n",
       "    <tr>\n",
       "      <th>top</th>\n",
       "      <td>NaN</td>\n",
       "      <td>High</td>\n",
       "      <td>Very High</td>\n",
       "      <td>Better</td>\n",
       "      <td>NaN</td>\n",
       "      <td>No</td>\n",
       "      <td>Travel_Rarely</td>\n",
       "      <td>Research &amp; Development</td>\n",
       "      <td>NaN</td>\n",
       "      <td>NaN</td>\n",
       "      <td>...</td>\n",
       "      <td>NaN</td>\n",
       "      <td>NaN</td>\n",
       "      <td>NaN</td>\n",
       "      <td>NaN</td>\n",
       "      <td>NaN</td>\n",
       "      <td>NaN</td>\n",
       "      <td>NaN</td>\n",
       "      <td>NaN</td>\n",
       "      <td>NaN</td>\n",
       "      <td>Excellent</td>\n",
       "    </tr>\n",
       "    <tr>\n",
       "      <th>freq</th>\n",
       "      <td>NaN</td>\n",
       "      <td>1350</td>\n",
       "      <td>1367</td>\n",
       "      <td>2660</td>\n",
       "      <td>NaN</td>\n",
       "      <td>3699</td>\n",
       "      <td>3129</td>\n",
       "      <td>2883</td>\n",
       "      <td>NaN</td>\n",
       "      <td>NaN</td>\n",
       "      <td>...</td>\n",
       "      <td>NaN</td>\n",
       "      <td>NaN</td>\n",
       "      <td>NaN</td>\n",
       "      <td>NaN</td>\n",
       "      <td>NaN</td>\n",
       "      <td>NaN</td>\n",
       "      <td>NaN</td>\n",
       "      <td>NaN</td>\n",
       "      <td>NaN</td>\n",
       "      <td>3732</td>\n",
       "    </tr>\n",
       "    <tr>\n",
       "      <th>mean</th>\n",
       "      <td>2205.500000</td>\n",
       "      <td>NaN</td>\n",
       "      <td>NaN</td>\n",
       "      <td>NaN</td>\n",
       "      <td>36.923810</td>\n",
       "      <td>NaN</td>\n",
       "      <td>NaN</td>\n",
       "      <td>NaN</td>\n",
       "      <td>9.192517</td>\n",
       "      <td>2.912925</td>\n",
       "      <td>...</td>\n",
       "      <td>15.209524</td>\n",
       "      <td>8.0</td>\n",
       "      <td>0.793878</td>\n",
       "      <td>11.279936</td>\n",
       "      <td>2.799320</td>\n",
       "      <td>7.008163</td>\n",
       "      <td>2.187755</td>\n",
       "      <td>4.123129</td>\n",
       "      <td>2.729932</td>\n",
       "      <td>NaN</td>\n",
       "    </tr>\n",
       "    <tr>\n",
       "      <th>std</th>\n",
       "      <td>1273.201673</td>\n",
       "      <td>NaN</td>\n",
       "      <td>NaN</td>\n",
       "      <td>NaN</td>\n",
       "      <td>9.133301</td>\n",
       "      <td>NaN</td>\n",
       "      <td>NaN</td>\n",
       "      <td>NaN</td>\n",
       "      <td>8.105026</td>\n",
       "      <td>1.023933</td>\n",
       "      <td>...</td>\n",
       "      <td>3.659108</td>\n",
       "      <td>0.0</td>\n",
       "      <td>0.851883</td>\n",
       "      <td>7.782222</td>\n",
       "      <td>1.288978</td>\n",
       "      <td>6.125135</td>\n",
       "      <td>3.221699</td>\n",
       "      <td>3.567327</td>\n",
       "      <td>0.711400</td>\n",
       "      <td>NaN</td>\n",
       "    </tr>\n",
       "    <tr>\n",
       "      <th>min</th>\n",
       "      <td>1.000000</td>\n",
       "      <td>NaN</td>\n",
       "      <td>NaN</td>\n",
       "      <td>NaN</td>\n",
       "      <td>18.000000</td>\n",
       "      <td>NaN</td>\n",
       "      <td>NaN</td>\n",
       "      <td>NaN</td>\n",
       "      <td>1.000000</td>\n",
       "      <td>1.000000</td>\n",
       "      <td>...</td>\n",
       "      <td>11.000000</td>\n",
       "      <td>8.0</td>\n",
       "      <td>0.000000</td>\n",
       "      <td>0.000000</td>\n",
       "      <td>0.000000</td>\n",
       "      <td>0.000000</td>\n",
       "      <td>0.000000</td>\n",
       "      <td>0.000000</td>\n",
       "      <td>1.000000</td>\n",
       "      <td>NaN</td>\n",
       "    </tr>\n",
       "    <tr>\n",
       "      <th>25%</th>\n",
       "      <td>1103.250000</td>\n",
       "      <td>NaN</td>\n",
       "      <td>NaN</td>\n",
       "      <td>NaN</td>\n",
       "      <td>30.000000</td>\n",
       "      <td>NaN</td>\n",
       "      <td>NaN</td>\n",
       "      <td>NaN</td>\n",
       "      <td>2.000000</td>\n",
       "      <td>2.000000</td>\n",
       "      <td>...</td>\n",
       "      <td>12.000000</td>\n",
       "      <td>8.0</td>\n",
       "      <td>0.000000</td>\n",
       "      <td>6.000000</td>\n",
       "      <td>2.000000</td>\n",
       "      <td>3.000000</td>\n",
       "      <td>0.000000</td>\n",
       "      <td>2.000000</td>\n",
       "      <td>2.000000</td>\n",
       "      <td>NaN</td>\n",
       "    </tr>\n",
       "    <tr>\n",
       "      <th>50%</th>\n",
       "      <td>2205.500000</td>\n",
       "      <td>NaN</td>\n",
       "      <td>NaN</td>\n",
       "      <td>NaN</td>\n",
       "      <td>36.000000</td>\n",
       "      <td>NaN</td>\n",
       "      <td>NaN</td>\n",
       "      <td>NaN</td>\n",
       "      <td>7.000000</td>\n",
       "      <td>3.000000</td>\n",
       "      <td>...</td>\n",
       "      <td>14.000000</td>\n",
       "      <td>8.0</td>\n",
       "      <td>1.000000</td>\n",
       "      <td>10.000000</td>\n",
       "      <td>3.000000</td>\n",
       "      <td>5.000000</td>\n",
       "      <td>1.000000</td>\n",
       "      <td>3.000000</td>\n",
       "      <td>3.000000</td>\n",
       "      <td>NaN</td>\n",
       "    </tr>\n",
       "    <tr>\n",
       "      <th>75%</th>\n",
       "      <td>3307.750000</td>\n",
       "      <td>NaN</td>\n",
       "      <td>NaN</td>\n",
       "      <td>NaN</td>\n",
       "      <td>43.000000</td>\n",
       "      <td>NaN</td>\n",
       "      <td>NaN</td>\n",
       "      <td>NaN</td>\n",
       "      <td>14.000000</td>\n",
       "      <td>4.000000</td>\n",
       "      <td>...</td>\n",
       "      <td>18.000000</td>\n",
       "      <td>8.0</td>\n",
       "      <td>1.000000</td>\n",
       "      <td>15.000000</td>\n",
       "      <td>3.000000</td>\n",
       "      <td>9.000000</td>\n",
       "      <td>3.000000</td>\n",
       "      <td>7.000000</td>\n",
       "      <td>3.000000</td>\n",
       "      <td>NaN</td>\n",
       "    </tr>\n",
       "    <tr>\n",
       "      <th>max</th>\n",
       "      <td>4410.000000</td>\n",
       "      <td>NaN</td>\n",
       "      <td>NaN</td>\n",
       "      <td>NaN</td>\n",
       "      <td>60.000000</td>\n",
       "      <td>NaN</td>\n",
       "      <td>NaN</td>\n",
       "      <td>NaN</td>\n",
       "      <td>29.000000</td>\n",
       "      <td>5.000000</td>\n",
       "      <td>...</td>\n",
       "      <td>25.000000</td>\n",
       "      <td>8.0</td>\n",
       "      <td>3.000000</td>\n",
       "      <td>40.000000</td>\n",
       "      <td>6.000000</td>\n",
       "      <td>40.000000</td>\n",
       "      <td>15.000000</td>\n",
       "      <td>17.000000</td>\n",
       "      <td>4.000000</td>\n",
       "      <td>NaN</td>\n",
       "    </tr>\n",
       "  </tbody>\n",
       "</table>\n",
       "<p>11 rows × 29 columns</p>\n",
       "</div>"
      ],
      "text/plain": [
       "         EmployeeID EnvironmentSatisfaction JobSatisfaction WorkLifeBalance  \\\n",
       "count   4410.000000                    4385            4390            4372   \n",
       "unique          NaN                       4               4               4   \n",
       "top             NaN                    High       Very High          Better   \n",
       "freq            NaN                    1350            1367            2660   \n",
       "mean    2205.500000                     NaN             NaN             NaN   \n",
       "std     1273.201673                     NaN             NaN             NaN   \n",
       "min        1.000000                     NaN             NaN             NaN   \n",
       "25%     1103.250000                     NaN             NaN             NaN   \n",
       "50%     2205.500000                     NaN             NaN             NaN   \n",
       "75%     3307.750000                     NaN             NaN             NaN   \n",
       "max     4410.000000                     NaN             NaN             NaN   \n",
       "\n",
       "                Age Attrition BusinessTravel              Department  \\\n",
       "count   4410.000000      4410           4410                    4410   \n",
       "unique          NaN         2              3                       3   \n",
       "top             NaN        No  Travel_Rarely  Research & Development   \n",
       "freq            NaN      3699           3129                    2883   \n",
       "mean      36.923810       NaN            NaN                     NaN   \n",
       "std        9.133301       NaN            NaN                     NaN   \n",
       "min       18.000000       NaN            NaN                     NaN   \n",
       "25%       30.000000       NaN            NaN                     NaN   \n",
       "50%       36.000000       NaN            NaN                     NaN   \n",
       "75%       43.000000       NaN            NaN                     NaN   \n",
       "max       60.000000       NaN            NaN                     NaN   \n",
       "\n",
       "        DistanceFromHome    Education  ... PercentSalaryHike  StandardHours  \\\n",
       "count        4410.000000  4410.000000  ...       4410.000000         4410.0   \n",
       "unique               NaN          NaN  ...               NaN            NaN   \n",
       "top                  NaN          NaN  ...               NaN            NaN   \n",
       "freq                 NaN          NaN  ...               NaN            NaN   \n",
       "mean            9.192517     2.912925  ...         15.209524            8.0   \n",
       "std             8.105026     1.023933  ...          3.659108            0.0   \n",
       "min             1.000000     1.000000  ...         11.000000            8.0   \n",
       "25%             2.000000     2.000000  ...         12.000000            8.0   \n",
       "50%             7.000000     3.000000  ...         14.000000            8.0   \n",
       "75%            14.000000     4.000000  ...         18.000000            8.0   \n",
       "max            29.000000     5.000000  ...         25.000000            8.0   \n",
       "\n",
       "       StockOptionLevel  TotalWorkingYears TrainingTimesLastYear  \\\n",
       "count       4410.000000        4401.000000           4410.000000   \n",
       "unique              NaN                NaN                   NaN   \n",
       "top                 NaN                NaN                   NaN   \n",
       "freq                NaN                NaN                   NaN   \n",
       "mean           0.793878          11.279936              2.799320   \n",
       "std            0.851883           7.782222              1.288978   \n",
       "min            0.000000           0.000000              0.000000   \n",
       "25%            0.000000           6.000000              2.000000   \n",
       "50%            1.000000          10.000000              3.000000   \n",
       "75%            1.000000          15.000000              3.000000   \n",
       "max            3.000000          40.000000              6.000000   \n",
       "\n",
       "       YearsAtCompany  YearsSinceLastPromotion  YearsWithCurrManager  \\\n",
       "count     4410.000000              4410.000000           4410.000000   \n",
       "unique            NaN                      NaN                   NaN   \n",
       "top               NaN                      NaN                   NaN   \n",
       "freq              NaN                      NaN                   NaN   \n",
       "mean         7.008163                 2.187755              4.123129   \n",
       "std          6.125135                 3.221699              3.567327   \n",
       "min          0.000000                 0.000000              0.000000   \n",
       "25%          3.000000                 0.000000              2.000000   \n",
       "50%          5.000000                 1.000000              3.000000   \n",
       "75%          9.000000                 3.000000              7.000000   \n",
       "max         40.000000                15.000000             17.000000   \n",
       "\n",
       "       JobInvolvement  PerformanceRating  \n",
       "count     4410.000000               4410  \n",
       "unique            NaN                  2  \n",
       "top               NaN          Excellent  \n",
       "freq              NaN               3732  \n",
       "mean         2.729932                NaN  \n",
       "std          0.711400                NaN  \n",
       "min          1.000000                NaN  \n",
       "25%          2.000000                NaN  \n",
       "50%          3.000000                NaN  \n",
       "75%          3.000000                NaN  \n",
       "max          4.000000                NaN  \n",
       "\n",
       "[11 rows x 29 columns]"
      ]
     },
     "execution_count": 46,
     "metadata": {},
     "output_type": "execute_result"
    }
   ],
   "source": [
    "allData.describe(include=\"all\")"
   ]
  },
  {
   "cell_type": "code",
   "execution_count": 47,
   "metadata": {},
   "outputs": [
    {
     "data": {
      "text/plain": [
       "array([[<matplotlib.axes._subplots.AxesSubplot object at 0x000001D42FCF1848>,\n",
       "        <matplotlib.axes._subplots.AxesSubplot object at 0x000001D42FCF6148>,\n",
       "        <matplotlib.axes._subplots.AxesSubplot object at 0x000001D41CF5AF48>,\n",
       "        <matplotlib.axes._subplots.AxesSubplot object at 0x000001D41CDF7648>],\n",
       "       [<matplotlib.axes._subplots.AxesSubplot object at 0x000001D41CDD9E88>,\n",
       "        <matplotlib.axes._subplots.AxesSubplot object at 0x000001D41CAF2708>,\n",
       "        <matplotlib.axes._subplots.AxesSubplot object at 0x000001D41CAD0F48>,\n",
       "        <matplotlib.axes._subplots.AxesSubplot object at 0x000001D41CEE9C88>],\n",
       "       [<matplotlib.axes._subplots.AxesSubplot object at 0x000001D41CEC9A48>,\n",
       "        <matplotlib.axes._subplots.AxesSubplot object at 0x000001D41CCDE2C8>,\n",
       "        <matplotlib.axes._subplots.AxesSubplot object at 0x000001D41CBF9348>,\n",
       "        <matplotlib.axes._subplots.AxesSubplot object at 0x000001D41CBCE408>],\n",
       "       [<matplotlib.axes._subplots.AxesSubplot object at 0x000001D41C9E9548>,\n",
       "        <matplotlib.axes._subplots.AxesSubplot object at 0x000001D4179DE648>,\n",
       "        <matplotlib.axes._subplots.AxesSubplot object at 0x000001D4179B0748>,\n",
       "        <matplotlib.axes._subplots.AxesSubplot object at 0x000001D41798A888>],\n",
       "       [<matplotlib.axes._subplots.AxesSubplot object at 0x000001D41CEBC8C8>,\n",
       "        <matplotlib.axes._subplots.AxesSubplot object at 0x000001D41CE929C8>,\n",
       "        <matplotlib.axes._subplots.AxesSubplot object at 0x000001D41CDABBC8>,\n",
       "        <matplotlib.axes._subplots.AxesSubplot object at 0x000001D41CD3ED88>]],\n",
       "      dtype=object)"
      ]
     },
     "execution_count": 47,
     "metadata": {},
     "output_type": "execute_result"
    },
    {
     "data": {
      "image/png": "[encoded data removed]",
      "text/plain": [
       "<Figure size 1800x864 with 20 Axes>"
      ]
     },
     "metadata": {
      "needs_background": "light"
     },
     "output_type": "display_data"
    }
   ],
   "source": [
    "allData.hist(figsize=(25,12), bins=25,column=list(allData.columns))"
   ]
  },
  {
   "cell_type": "code",
   "execution_count": 48,
   "metadata": {},
   "outputs": [
    {
     "data": {
      "image/png": "[encoded data removed]",
      "text/plain": [
       "<Figure size 576x576 with 1 Axes>"
      ]
     },
     "metadata": {
      "needs_background": "light"
     },
     "output_type": "display_data"
    }
   ],
   "source": [
    "plt.figure(figsize=(8,8))\n",
    "ax = sns.countplot(x='PerformanceRating', data=allData, hue=\"Attrition\")\n",
    "ax.set_ylabel('Nb of Employee')\n",
    "bars = ax.patches\n",
    "half = int(len(bars)/2)\n",
    "left_bars = bars[:half]\n",
    "right_bars = bars[half:]\n",
    "\n",
    "for left, right in zip(left_bars, right_bars):\n",
    "    height_l = left.get_height()\n",
    "    height_r = right.get_height()\n",
    "    total = height_l + height_r\n",
    "\n",
    "    ax.text(left.get_x() + left.get_width()/2., height_l + 40, '{0:.0%}'.format(height_l/total), ha=\"center\")\n",
    "    ax.text(right.get_x() + right.get_width()/2., height_r + 40, '{0:.0%}'.format(height_r/total), ha=\"center\")"
   ]
  },
  {
   "cell_type": "code",
   "execution_count": 41,
   "metadata": {},
   "outputs": [
    {
     "data": {
      "image/png": "[encoded data removed]",
      "text/plain": [
       "<Figure size 576x576 with 1 Axes>"
      ]
     },
     "metadata": {
      "needs_background": "light"
     },
     "output_type": "display_data"
    }
   ],
   "source": [
    "plt.figure(figsize=(8,8))\n",
    "ax = sns.countplot(x='WorkLifeBalance', data=allData, hue=\"Attrition\")\n",
    "bars = ax.patches\n",
    "half = int(len(bars)/2)\n",
    "left_bars = bars[:half]\n",
    "right_bars = bars[half:]\n",
    "\n",
    "for left, right in zip(left_bars, right_bars):\n",
    "    height_l = left.get_height()\n",
    "    height_r = right.get_height()\n",
    "    total = height_l + height_r\n",
    "\n",
    "    ax.text(left.get_x() + left.get_width()/2., height_l + 40, '{0:.0%}'.format(height_l/total), ha=\"center\")\n",
    "    ax.text(right.get_x() + right.get_width()/2., height_r + 40, '{0:.0%}'.format(height_r/total), ha=\"center\")"
   ]
  },
  {
   "cell_type": "code",
   "execution_count": 6,
   "metadata": {},
   "outputs": [
    {
     "data": {
      "text/html": [
       "<div>\n",
       "<style scoped>\n",
       "    .dataframe tbody tr th:only-of-type {\n",
       "        vertical-align: middle;\n",
       "    }\n",
       "\n",
       "    .dataframe tbody tr th {\n",
       "        vertical-align: top;\n",
       "    }\n",
       "\n",
       "    .dataframe thead th {\n",
       "        text-align: right;\n",
       "    }\n",
       "</style>\n",
       "<table border=\"1\" class=\"dataframe\">\n",
       "  <thead>\n",
       "    <tr style=\"text-align: right;\">\n",
       "      <th></th>\n",
       "      <th>EmployeeID</th>\n",
       "      <th>Age</th>\n",
       "      <th>DistanceFromHome</th>\n",
       "      <th>Education</th>\n",
       "      <th>EmployeeCount</th>\n",
       "      <th>JobLevel</th>\n",
       "      <th>MonthlyIncome</th>\n",
       "      <th>PercentSalaryHike</th>\n",
       "      <th>StandardHours</th>\n",
       "      <th>StockOptionLevel</th>\n",
       "      <th>TrainingTimesLastYear</th>\n",
       "      <th>YearsAtCompany</th>\n",
       "      <th>YearsSinceLastPromotion</th>\n",
       "      <th>YearsWithCurrManager</th>\n",
       "      <th>JobInvolvement</th>\n",
       "      <th>PerformanceRating</th>\n",
       "    </tr>\n",
       "  </thead>\n",
       "  <tbody>\n",
       "    <tr>\n",
       "      <th>0</th>\n",
       "      <td>1</td>\n",
       "      <td>51</td>\n",
       "      <td>6</td>\n",
       "      <td>2</td>\n",
       "      <td>1</td>\n",
       "      <td>1</td>\n",
       "      <td>131160</td>\n",
       "      <td>11</td>\n",
       "      <td>8</td>\n",
       "      <td>0</td>\n",
       "      <td>6</td>\n",
       "      <td>1</td>\n",
       "      <td>0</td>\n",
       "      <td>0</td>\n",
       "      <td>3</td>\n",
       "      <td>3</td>\n",
       "    </tr>\n",
       "    <tr>\n",
       "      <th>1</th>\n",
       "      <td>2</td>\n",
       "      <td>31</td>\n",
       "      <td>10</td>\n",
       "      <td>1</td>\n",
       "      <td>1</td>\n",
       "      <td>1</td>\n",
       "      <td>41890</td>\n",
       "      <td>23</td>\n",
       "      <td>8</td>\n",
       "      <td>1</td>\n",
       "      <td>3</td>\n",
       "      <td>5</td>\n",
       "      <td>1</td>\n",
       "      <td>4</td>\n",
       "      <td>2</td>\n",
       "      <td>4</td>\n",
       "    </tr>\n",
       "    <tr>\n",
       "      <th>2</th>\n",
       "      <td>3</td>\n",
       "      <td>32</td>\n",
       "      <td>17</td>\n",
       "      <td>4</td>\n",
       "      <td>1</td>\n",
       "      <td>4</td>\n",
       "      <td>193280</td>\n",
       "      <td>15</td>\n",
       "      <td>8</td>\n",
       "      <td>3</td>\n",
       "      <td>2</td>\n",
       "      <td>5</td>\n",
       "      <td>0</td>\n",
       "      <td>3</td>\n",
       "      <td>3</td>\n",
       "      <td>3</td>\n",
       "    </tr>\n",
       "    <tr>\n",
       "      <th>3</th>\n",
       "      <td>4</td>\n",
       "      <td>38</td>\n",
       "      <td>2</td>\n",
       "      <td>5</td>\n",
       "      <td>1</td>\n",
       "      <td>3</td>\n",
       "      <td>83210</td>\n",
       "      <td>11</td>\n",
       "      <td>8</td>\n",
       "      <td>3</td>\n",
       "      <td>5</td>\n",
       "      <td>8</td>\n",
       "      <td>7</td>\n",
       "      <td>5</td>\n",
       "      <td>2</td>\n",
       "      <td>3</td>\n",
       "    </tr>\n",
       "    <tr>\n",
       "      <th>4</th>\n",
       "      <td>5</td>\n",
       "      <td>32</td>\n",
       "      <td>10</td>\n",
       "      <td>1</td>\n",
       "      <td>1</td>\n",
       "      <td>1</td>\n",
       "      <td>23420</td>\n",
       "      <td>12</td>\n",
       "      <td>8</td>\n",
       "      <td>2</td>\n",
       "      <td>2</td>\n",
       "      <td>6</td>\n",
       "      <td>0</td>\n",
       "      <td>4</td>\n",
       "      <td>3</td>\n",
       "      <td>3</td>\n",
       "    </tr>\n",
       "  </tbody>\n",
       "</table>\n",
       "</div>"
      ],
      "text/plain": [
       "   EmployeeID  Age  DistanceFromHome  Education  EmployeeCount  JobLevel  \\\n",
       "0           1   51                 6          2              1         1   \n",
       "1           2   31                10          1              1         1   \n",
       "2           3   32                17          4              1         4   \n",
       "3           4   38                 2          5              1         3   \n",
       "4           5   32                10          1              1         1   \n",
       "\n",
       "   MonthlyIncome  PercentSalaryHike  StandardHours  StockOptionLevel  \\\n",
       "0         131160                 11              8                 0   \n",
       "1          41890                 23              8                 1   \n",
       "2         193280                 15              8                 3   \n",
       "3          83210                 11              8                 3   \n",
       "4          23420                 12              8                 2   \n",
       "\n",
       "   TrainingTimesLastYear  YearsAtCompany  YearsSinceLastPromotion  \\\n",
       "0                      6               1                        0   \n",
       "1                      3               5                        1   \n",
       "2                      2               5                        0   \n",
       "3                      5               8                        7   \n",
       "4                      2               6                        0   \n",
       "\n",
       "   YearsWithCurrManager  JobInvolvement  PerformanceRating  \n",
       "0                     0               3                  3  \n",
       "1                     4               2                  4  \n",
       "2                     3               3                  3  \n",
       "3                     5               2                  3  \n",
       "4                     4               3                  3  "
      ]
     },
     "execution_count": 6,
     "metadata": {},
     "output_type": "execute_result"
    }
   ],
   "source": [
    "from scipy.cluster.hierarchy import dendrogram, linkage\n",
    "\n",
    "X = allData.copy() # A new copy of data set\n",
    "X.drop(\"Attrition\", axis=1, inplace=True) # Not numerical\n",
    "X.drop(\"BusinessTravel\", axis=1, inplace=True) # Not numerical\n",
    "X.drop(\"EducationField\", axis=1, inplace=True) # Not numerical\n",
    "X.drop(\"Department\", axis=1, inplace=True) # Not numerical\n",
    "X.drop(\"Gender\", axis=1, inplace=True) # Not numerical\n",
    "X.drop(\"JobRole\", axis=1, inplace=True) # Not numerical\n",
    "X.drop(\"MaritalStatus\", axis=1, inplace=True) # Not numerical\n",
    "X.drop(\"Over18\", axis=1, inplace=True) # Not numerical\n",
    "X.drop(\"EnvironmentSatisfaction\", axis=1, inplace=True) # Missing values\n",
    "X.drop(\"JobSatisfaction\", axis=1, inplace=True) # Missing values\n",
    "X.drop(\"WorkLifeBalance\", axis=1, inplace=True) # Missing values\n",
    "X.drop(\"NumCompaniesWorked\", axis=1, inplace=True) # Missing values\n",
    "X.drop(\"TotalWorkingYears\", axis=1, inplace=True) # Missing values\n",
    "\n",
    "X.head()"
   ]
  },
  {
   "cell_type": "code",
   "execution_count": 7,
   "metadata": {},
   "outputs": [
    {
     "data": {
      "image/png": "[encoded data removed]",
      "text/plain": [
       "<Figure size 720x504 with 1 Axes>"
      ]
     },
     "metadata": {
      "needs_background": "light"
     },
     "output_type": "display_data"
    }
   ],
   "source": [
    "plt.figure(figsize=(10, 7))\n",
    "dendrogram(linkage(X, method='ward'), orientation='top', distance_sort='descending', show_leaf_counts=True)\n",
    "plt.show()"
   ]
  },
  {
   "cell_type": "markdown",
   "metadata": {},
   "source": [
    "#### Echantillonage stratifié\n",
    "\n",
    "On considère que la distance entre le domicile et le travail est une variable-clef. Nous désirons effectuer un échantillonage où les jeux d'entraînement et de test respectent les proportions de représentation des différentes distances . Pour celà, nous commençons par créer une variable `DistanceFromHome_cat`, pendant catégoriel de la variable numérique `DistanceFromHome`"
   ]
  },
  {
   "cell_type": "code",
   "execution_count": 8,
   "metadata": {},
   "outputs": [],
   "source": [
    "allData[\"DistanceFromHome_cat\"] = np.ceil(allData[\"DistanceFromHome\"]/1.5)\n",
    "allData[\"DistanceFromHome_cat\"].where(allData[\"DistanceFromHome_cat\"] < 5, 5.0, inplace=True) # replace where false"
   ]
  },
  {
   "cell_type": "code",
   "execution_count": 9,
   "metadata": {},
   "outputs": [
    {
     "data": {
      "text/plain": [
       "<matplotlib.axes._subplots.AxesSubplot at 0x1d416b91a08>"
      ]
     },
     "execution_count": 9,
     "metadata": {},
     "output_type": "execute_result"
    },
    {
     "data": {
      "image/png": "[encoded data removed]",
      "text/plain": [
       "<Figure size 432x288 with 1 Axes>"
      ]
     },
     "metadata": {
      "needs_background": "light"
     },
     "output_type": "display_data"
    }
   ],
   "source": [
    "allData[\"DistanceFromHome_cat\"].hist()"
   ]
  },
  {
   "cell_type": "code",
   "execution_count": 10,
   "metadata": {},
   "outputs": [
    {
     "name": "stdout",
     "output_type": "stream",
     "text": [
      "[ 671 4064 1417 ... 1921 2460 2456] [1098  991 4077 4025 1284  679 4369  794  769 2189 4300 2667  408  732\n",
      " 3962 1740 3521 3954 4138 3984  328 2377  663  570  505 1607 3375 1671\n",
      "  324  735 3672 2102   79  688 1406  920  870  955 4244 2539 2835  391\n",
      "  490 3584 2482 4007  718 2175 3701  178 3072 4382 2746  993  861 3023\n",
      " 2158 1450 2727 2759  101 1363  576 1053 1540 2822 3529  480 3368 4288\n",
      "  231 3928 3137  237  350  353 1116 2465 4107 1509 4381  821 1197 3711\n",
      "  937  485 3669 2663  641 3645 2411 2675  801 3620 1488  286 4061  912\n",
      " 2552  964 1751 1042 3800 1257   12  765  702 2931 3483 2624 4326  813\n",
      " 2817  881 2545 2722 2376 1541 1131 2952 3496 3582 1472  188  299 3502\n",
      " 1270 3307  752 3206 1247 4270 2954  658 3157 3107 4312 1316 3944  910\n",
      " 2926 2661 3634 2360 2247 3533 4264 3309 2356 2702 3843 1712 3508 1126\n",
      " 4019  731 1032 3836  579  251 1253  260 2011 3181 3493 4336 3895 3096\n",
      " 2235 4220 4150 4199 1339 1463 2491 3648  246 2767   78 3897 1555 2861\n",
      " 3686  889 1255 2227 2312 3377 2523 2705 4157 2272  686 3303 2285 1593\n",
      " 4081  924  623 2417   41 1218 1023 4393 1219 3707  211  700 2308  120\n",
      " 3988 2007 3193  714  423 3857 3470 2768 1502 2464 3262 3965  352 3668\n",
      " 1777 3183 1346 3790   27 2966  424 1703 4093  164 3814  447 4208 2214\n",
      " 2050 3970 1158   19 1061 1402 4120  804 3053 1492 3272 2311 3631 4079\n",
      " 1072 2704   13  461 3628 3249 2087 3175 1338 4246 3715  358 2710 2219\n",
      " 3675 3771 3358 1831 2604 2844 3945  516 2571 3746 3404  428   74 4283\n",
      " 3359 1762 1660 2047  932 1454 4329 3736 2877  498 1296 3585   64 1301\n",
      " 3542 4227 1840  657 3170  294 3594 2432  375 2677 2700  830  796 1543\n",
      " 2408  139  963 4159 3417 2731 2349  540 1084 2155 1796 3737 2139 3351\n",
      " 2574 3475  635 4048 1974 1475  680 4301 1876  444 1589 2791 1827 3449\n",
      "  666  728 1784 3813 2781  337  440 4194 1495  767 2329 1409 4029  454\n",
      " 2144 3734 3462 1913 2763 1249   39 2423  243  758  715 1845  940 3222\n",
      " 2268 4169 4269 4344 4238 2543 3791  627 4258 3252 1979 2104  873 3405\n",
      " 2399 2229 1138 2256 4224 1994  795 2611 2296 3278 3143  774 1570 1103\n",
      "  538 2944  766 1233   69 3783 4408  664  503  775  554 2606 4052 4247\n",
      " 3856 2588 4311  130  819 1157 3346 2803  118 3248  331 3896 2368  462\n",
      " 4217 3237 3447 2974 2328  182 2462 1227 3811  676 3414 3464 1065 1027\n",
      " 3372 1836    2 1906 2646 3661 2060 4115 2693 2064 1200 2044  220  512\n",
      " 3532   73 1482 3301 3907 1252 3986 3685 1664 1242 3412 3292  429 1303\n",
      " 3057 3922 1865  706  888 2792 3780 3957 4180 2728  614  739 1569 1397\n",
      " 3971 1952 1745   53 3310 1743  637  513 1611  379 3313 3773  321 3596\n",
      " 3012 4049 1523 2343 3702 4192 3999 1310  202  883 3306 1348 1014 2754\n",
      "  269 2553  916 1400 3174 3936 3593  300  901 3453 1447  301 3091 2323\n",
      "  449  266 3361 3601 3151  684 1422 2991 4195 2654  405 1432  983  959\n",
      " 3747 3255 1892  156 4207  152 1850 2859 1288 4359  770 2921 2874 2271\n",
      "  989  925  132 2392  102 4042 1508 4152 4340 1766 1549 3389 3274 1230\n",
      " 1137 2263 3735  622 3537 1187 1612  872   70 2363 2812   91 1975  837\n",
      " 1175  919 2726 2332 2109  668 3768 4203 1480  825 1234  448  596  577\n",
      " 3958  242 1246 3445 2608 1971 3708 2484 2910  151 3953 4047 3120  525\n",
      " 1650 1471 3422  229 3456  263 2070 3225 1024  451 2719 2745 4223 2348\n",
      " 3994  206 1715 1767 3234 2853 2735 1269   31 1357 2689 2837  411 1765\n",
      " 1829 3697 1689  255    3  409 4145 3995 1180 4353  412 2118 3153 1987\n",
      "  818 2442 3336   17 3436  973 1888 3178 4402 3413 2531 1545 2998  605\n",
      "  986 2621 4352 2068 2995 1354 1546  280 1722 1927  200 1771 3148 3117\n",
      " 1713 1162 1130  992  249 2302 2131 1033   77  410 3923 2992 1672 1333\n",
      " 2245 3461  489 1320 1258  842 1723 2852 1794 2622 2697 2075 3881 2757\n",
      "  335  225 2152  939  858 2501 4318 1897 3583 1073 3128 2298 4357 2871\n",
      " 1272 1418 1830  307 2559  275 2658 2644  846 3607 3296  222 3904 3667\n",
      " 3203 4347 1857  580  162 4245  884 3730 3039 3374 3924 4309 3416  780\n",
      "  792  464 1950 2976 2420 4272 1451 4068 1198 2732 1807  403 2259  133\n",
      " 3799 1837 1795 2046 1322 1854 2743 3911  661 2618 2884  672  673 3238\n",
      " 3785 1112 4404 3373 1687 3162  630 4174 2977 3400 4183  368 2714 1791\n",
      " 3385  407 1020 2277 1993 3706   68 3294 1596  467  174 3818 2098 2184\n",
      " 3687 3082 1941 1442 2236 2566 2021 2912 3369 1942 3688 3788 4257 2558\n",
      "  106 1459 2808 2429 2561 4380 3604 1910 1087  652  562 3208  638  122\n",
      " 1114 2351  372 1881 3085 3297 1931 4026 3244 3579 4400  418 1436 1867\n",
      " 2093  181 3109 1036  875  264 3650 1711  690 1196 2866 4088 1879 4236\n",
      " 2354 2810  217   92  292 3393  551 1590 1961 2295 1769 2443 2162  879\n",
      " 3020 3093 3104 2841 2342 1757 4372  988 1512 4091 2592  965 2867  836]\n"
     ]
    }
   ],
   "source": [
    "from sklearn.model_selection import StratifiedShuffleSplit\n",
    "\n",
    "split = StratifiedShuffleSplit(n_splits=1, test_size=0.2, random_state=42)\n",
    "for train_index, test_index in split.split(allData, allData[\"DistanceFromHome_cat\"]):\n",
    "    print(train_index, test_index) # 1 seul tour de boucle si n_splits = 1\n",
    "    strat_train_set = allData.loc[train_index]\n",
    "    strat_test_set = allData.loc[test_index]"
   ]
  },
  {
   "cell_type": "code",
   "execution_count": 11,
   "metadata": {},
   "outputs": [
    {
     "data": {
      "text/plain": [
       "<matplotlib.axes._subplots.AxesSubplot at 0x1d41a9cc548>"
      ]
     },
     "execution_count": 11,
     "metadata": {},
     "output_type": "execute_result"
    },
    {
     "data": {
      "image/png": "[encoded data removed]",
      "text/plain": [
       "<Figure size 432x288 with 1 Axes>"
      ]
     },
     "metadata": {
      "needs_background": "light"
     },
     "output_type": "display_data"
    }
   ],
   "source": [
    "strat_test_set[\"DistanceFromHome_cat\"].hist()"
   ]
  },
  {
   "cell_type": "code",
   "execution_count": 12,
   "metadata": {},
   "outputs": [],
   "source": [
    "for set_ in (strat_train_set, strat_test_set):\n",
    "    set_.drop(\"DistanceFromHome_cat\", axis=1, inplace=True)"
   ]
  },
  {
   "cell_type": "markdown",
   "metadata": {},
   "source": [
    "#### Corrélation\n",
    "\n",
    "Les variables d'un jeu de données peuvent être liées deux à deux (plus ou moins fortement, positivement ou négativement), c'est pourquoi on calcule leur `corrélation`"
   ]
  },
  {
   "cell_type": "code",
   "execution_count": 13,
   "metadata": {},
   "outputs": [
    {
     "data": {
      "text/plain": [
       "EmployeeID                -0.004834\n",
       "EnvironmentSatisfaction    0.036137\n",
       "JobSatisfaction           -0.005699\n",
       "WorkLifeBalance           -0.001166\n",
       "Age                        0.009935\n",
       "DistanceFromHome           1.000000\n",
       "Education                 -0.008776\n",
       "EmployeeCount                   NaN\n",
       "JobLevel                  -0.041281\n",
       "MonthlyIncome             -0.025152\n",
       "NumCompaniesWorked        -0.003218\n",
       "PercentSalaryHike          0.023426\n",
       "StandardHours                   NaN\n",
       "StockOptionLevel           0.025746\n",
       "TotalWorkingYears          0.010984\n",
       "TrainingTimesLastYear     -0.011505\n",
       "YearsAtCompany             0.028654\n",
       "YearsSinceLastPromotion   -0.009053\n",
       "YearsWithCurrManager       0.019712\n",
       "JobInvolvement             0.005755\n",
       "PerformanceRating          0.023838\n",
       "Name: DistanceFromHome, dtype: float64"
      ]
     },
     "execution_count": 13,
     "metadata": {},
     "output_type": "execute_result"
    }
   ],
   "source": [
    "dataCorr = strat_train_set.copy()\n",
    "dataCorr.corr()['DistanceFromHome']"
   ]
  },
  {
   "cell_type": "code",
   "execution_count": 15,
   "metadata": {},
   "outputs": [
    {
     "data": {
      "text/plain": [
       "array([[<matplotlib.axes._subplots.AxesSubplot object at 0x000001D423FE7888>]],\n",
       "      dtype=object)"
      ]
     },
     "execution_count": 15,
     "metadata": {},
     "output_type": "execute_result"
    },
    {
     "data": {
      "image/png": "[encoded data removed]",
      "text/plain": [
       "<Figure size 864x576 with 1 Axes>"
      ]
     },
     "metadata": {
      "needs_background": "light"
     },
     "output_type": "display_data"
    }
   ],
   "source": [
    "from pandas.plotting import scatter_matrix\n",
    "\n",
    "attributes = [\"DistanceFromHome\"]\n",
    "scatter_matrix(allData[attributes], figsize=(12, 8))"
   ]
  },
  {
   "cell_type": "markdown",
   "metadata": {},
   "source": [
    "### Pipeline ML"
   ]
  },
  {
   "cell_type": "code",
   "execution_count": 14,
   "metadata": {},
   "outputs": [
    {
     "data": {
      "text/plain": [
       "array([[-1.7316581 ,  1.54136892, -0.39393818, ...,  1.        ,\n",
       "         0.        ,  1.        ],\n",
       "       [-1.73087259, -0.64866811,  0.09963874, ...,  0.        ,\n",
       "         1.        ,  1.        ],\n",
       "       [-1.73008708, -0.53916626,  0.96339837, ...,  1.        ,\n",
       "         0.        ,  1.        ],\n",
       "       ...,\n",
       "       [ 1.73008708, -1.30567922,  1.95055222, ...,  1.        ,\n",
       "         0.        ,  1.        ],\n",
       "       [ 1.73087259,  0.55585225,  1.0867926 , ...,  0.        ,\n",
       "         0.        ,  1.        ],\n",
       "       [ 1.7316581 ,  0.33684855,  2.32073492, ...,  0.        ,\n",
       "         0.        ,  1.        ]])"
      ]
     },
     "execution_count": 14,
     "metadata": {},
     "output_type": "execute_result"
    }
   ],
   "source": [
    "from sklearn.pipeline import Pipeline\n",
    "from sklearn.preprocessing import StandardScaler\n",
    "from sklearn.impute import SimpleImputer\n",
    "from sklearn.preprocessing import OneHotEncoder\n",
    "from sklearn.compose import ColumnTransformer\n",
    "\n",
    "num_attribs = list(X)\n",
    "cat_attribs = [\"BusinessTravel\", \"Attrition\", \"EducationField\", \"Department\", \"Gender\", \"JobRole\", \"MaritalStatus\", \"Over18\"]\n",
    "\n",
    "num_pipeline = Pipeline([\n",
    "        ('imputer', SimpleImputer(strategy=\"median\")),\n",
    "        ('std_scaler', StandardScaler()),\n",
    "    ])\n",
    "\n",
    "full_pipeline = ColumnTransformer([\n",
    "    (\"num\", num_pipeline, num_attribs),\n",
    "    (\"cat\", OneHotEncoder(), cat_attribs),\n",
    "])\n",
    "\n",
    "dataSetPipeline = full_pipeline.fit_transform(allData)\n",
    "dataSetPipeline"
   ]
  },
  {
   "cell_type": "code",
   "execution_count": 19,
   "metadata": {},
   "outputs": [
    {
     "data": {
      "text/plain": [
       "(4410, 45)"
      ]
     },
     "execution_count": 19,
     "metadata": {},
     "output_type": "execute_result"
    }
   ],
   "source": [
    "dataSetPipeline.shape"
   ]
  }
 ],
 "metadata": {
  "kernelspec": {
   "display_name": "Python 3",
   "language": "python",
   "name": "python3"
  },
  "language_info": {
   "codemirror_mode": {
    "name": "ipython",
    "version": 3
   },
   "file_extension": ".py",
   "mimetype": "text/x-python",
   "name": "python",
   "nbconvert_exporter": "python",
   "pygments_lexer": "ipython3",
   "version": "3.7.6"
  }
 },
 "nbformat": 4,
 "nbformat_minor": 2
}
