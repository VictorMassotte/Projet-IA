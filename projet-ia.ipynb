{
 "cells": [
  {
   "cell_type": "code",
   "execution_count": 1,
   "metadata": {},
   "outputs": [],
   "source": [
    "import pandas as pd\n",
    "\n",
    "generalData = pd.read_csv(r'data\\general_data.csv')\n",
    "employeeData = pd.read_csv(r'data\\employee_survey_data.csv')\n",
    "inTimeData = pd.read_csv(r'data\\in_time.csv')\n",
    "managerData = pd.read_csv(r'data\\manager_survey_data.csv')\n",
    "outTimeData = pd.read_csv(r'data\\out_time.csv')\n"
   ]
  },
  {
   "cell_type": "code",
   "execution_count": 3,
   "metadata": {},
   "outputs": [
    {
     "name": "stdout",
     "output_type": "stream",
     "text": [
      "<class 'pandas.core.frame.DataFrame'>\n",
      "Int64Index: 4410 entries, 0 to 4409\n",
      "Data columns (total 29 columns):\n",
      " #   Column                   Non-Null Count  Dtype  \n",
      "---  ------                   --------------  -----  \n",
      " 0   EmployeeID               4410 non-null   int64  \n",
      " 1   EnvironmentSatisfaction  4385 non-null   float64\n",
      " 2   JobSatisfaction          4390 non-null   float64\n",
      " 3   WorkLifeBalance          4372 non-null   float64\n",
      " 4   Age                      4410 non-null   int64  \n",
      " 5   Attrition                4410 non-null   object \n",
      " 6   BusinessTravel           4410 non-null   object \n",
      " 7   Department               4410 non-null   object \n",
      " 8   DistanceFromHome         4410 non-null   int64  \n",
      " 9   Education                4410 non-null   int64  \n",
      " 10  EducationField           4410 non-null   object \n",
      " 11  EmployeeCount            4410 non-null   int64  \n",
      " 12  Gender                   4410 non-null   object \n",
      " 13  JobLevel                 4410 non-null   int64  \n",
      " 14  JobRole                  4410 non-null   object \n",
      " 15  MaritalStatus            4410 non-null   object \n",
      " 16  MonthlyIncome            4410 non-null   int64  \n",
      " 17  NumCompaniesWorked       4391 non-null   float64\n",
      " 18  Over18                   4410 non-null   object \n",
      " 19  PercentSalaryHike        4410 non-null   int64  \n",
      " 20  StandardHours            4410 non-null   int64  \n",
      " 21  StockOptionLevel         4410 non-null   int64  \n",
      " 22  TotalWorkingYears        4401 non-null   float64\n",
      " 23  TrainingTimesLastYear    4410 non-null   int64  \n",
      " 24  YearsAtCompany           4410 non-null   int64  \n",
      " 25  YearsSinceLastPromotion  4410 non-null   int64  \n",
      " 26  YearsWithCurrManager     4410 non-null   int64  \n",
      " 27  JobInvolvement           4410 non-null   int64  \n",
      " 28  PerformanceRating        4410 non-null   int64  \n",
      "dtypes: float64(5), int64(16), object(8)\n",
      "memory usage: 1.0+ MB\n"
     ]
    }
   ],
   "source": [
    "allData = pd.merge(employeeData, generalData, how='inner', on=['EmployeeID'])\n",
    "allData = allData.merge(managerData, how='inner', on=['EmployeeID'])\n",
    "\n",
    "allData.info()"
   ]
  }
 ],
 "metadata": {
  "kernelspec": {
   "display_name": "Python 3",
   "language": "python",
   "name": "python3"
  },
  "language_info": {
   "codemirror_mode": {
    "name": "ipython",
    "version": 3
   },
   "file_extension": ".py",
   "mimetype": "text/x-python",
   "name": "python",
   "nbconvert_exporter": "python",
   "pygments_lexer": "ipython3",
   "version": "3.7.6"
  }
 },
 "nbformat": 4,
 "nbformat_minor": 2
}
